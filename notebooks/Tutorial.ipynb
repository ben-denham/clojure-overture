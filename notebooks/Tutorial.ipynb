{
 "cells": [
  {
   "cell_type": "markdown",
   "metadata": {
    "ein.tags": "worksheet-0",
    "slideshow": {
     "slide_type": "slide"
    }
   },
   "source": [
    "# Clojure Overture - Main Tutorial"
   ]
  },
  {
   "cell_type": "markdown",
   "metadata": {
    "ein.tags": "worksheet-0",
    "slideshow": {
     "slide_type": "-"
    }
   },
   "source": [
    "This tutorial is intended as a tour through the fundamentals of\n",
    "Clojure and the features that distinguish it from other languages.\n",
    "\n",
    "Thanks to [ClojureBridge](http://clojurebridge.github.io/curriculum),\n",
    "[Clojure for the Brave and\n",
    "True](https://www.braveclojure.com/clojure-for-the-brave-and-true/),\n",
    "and [ClojureDocs](https://clojuredocs.org) for inspiring the content.\n",
    "\n"
   ]
  },
  {
   "cell_type": "markdown",
   "metadata": {
    "slideshow": {
     "slide_type": "subslide"
    }
   },
   "source": [
    "This tutorial broken into the following sections:\n",
    "\n",
    "1. [Language Basics](#Language-Basics)\n",
    "2. [Functional Programming](#Functional-Programming)\n",
    "3. [Data Processing](#Data-Processing)\n",
    "4. [Concurrency](#Concurrency)\n",
    "5. [Lisp](#Lisp)\n",
    "6. [JVM Hosted](#JVM-Hosted)\n",
    "7. [Polymorphism](#Polymorphism)\n",
    "8. [Building a Project](#Building-a-Project)\n",
    "9. [Web Development](#Web-Development)"
   ]
  },
  {
   "cell_type": "markdown",
   "metadata": {
    "ein.tags": "worksheet-0",
    "slideshow": {
     "slide_type": "slide"
    }
   },
   "source": [
    "## Language Basics"
   ]
  },
  {
   "cell_type": "code",
   "execution_count": 1,
   "metadata": {
    "autoscroll": false,
    "ein.tags": "worksheet-0",
    "slideshow": {
     "slide_type": "subslide"
    }
   },
   "outputs": [
    {
     "name": "stdout",
     "output_type": "stream",
     "text": [
      "Hello World\n"
     ]
    }
   ],
   "source": [
    "(println \"Hello World\")"
   ]
  },
  {
   "cell_type": "markdown",
   "metadata": {
    "ein.tags": "worksheet-0",
    "slideshow": {
     "slide_type": "subslide"
    }
   },
   "source": [
    "### Maths"
   ]
  },
  {
   "cell_type": "code",
   "execution_count": 2,
   "metadata": {
    "autoscroll": false,
    "ein.tags": "worksheet-0",
    "slideshow": {
     "slide_type": "-"
    }
   },
   "outputs": [
    {
     "name": "stdout",
     "output_type": "stream",
     "text": [
      "7\n",
      "2.04\n",
      "12\n",
      "3/4\n",
      "0.75\n"
     ]
    }
   ],
   "source": [
    ";; Basic Maths (prefix notation)\n",
    "(println (+ 3 4))\n",
    "(println (- 3.14 1.1))\n",
    "(println (* 3 4))\n",
    "(println (/ 3 4)) ;; Rational\n",
    "(println (/ 3 4.0)) ;; Float"
   ]
  },
  {
   "cell_type": "code",
   "execution_count": 3,
   "metadata": {
    "autoscroll": false,
    "ein.tags": "worksheet-0",
    "slideshow": {
     "slide_type": "subslide"
    }
   },
   "outputs": [
    {
     "data": {
      "text/plain": [
       "14"
      ]
     },
     "execution_count": 3,
     "metadata": {},
     "output_type": "execute_result"
    }
   ],
   "source": [
    ";; Prefix notation removes precedence ambiguity\n",
    "(+ (* 1 2) (* 3 4)) ;; vs. (1 * 2 + 3 * 4)"
   ]
  },
  {
   "cell_type": "code",
   "execution_count": 4,
   "metadata": {
    "autoscroll": false,
    "ein.tags": "worksheet-0",
    "slideshow": {
     "slide_type": "-"
    }
   },
   "outputs": [
    {
     "data": {
      "text/plain": [
       "15"
      ]
     },
     "execution_count": 4,
     "metadata": {},
     "output_type": "execute_result"
    }
   ],
   "source": [
    ";; Prefix notation is more concise\n",
    "(+ 1 2 3 4 5) ;; vs. 1 + 2 + 3 + 4 + 5"
   ]
  },
  {
   "cell_type": "markdown",
   "metadata": {
    "ein.tags": "worksheet-0",
    "slideshow": {
     "slide_type": "subslide"
    }
   },
   "source": [
    "### Variables (spoiler: they don't vary)"
   ]
  },
  {
   "cell_type": "code",
   "execution_count": 5,
   "metadata": {
    "autoscroll": false,
    "ein.tags": "worksheet-0",
    "slideshow": {
     "slide_type": "-"
    }
   },
   "outputs": [
    {
     "data": {
      "text/plain": [
       "#'user/age"
      ]
     },
     "execution_count": 5,
     "metadata": {},
     "output_type": "execute_result"
    }
   ],
   "source": [
    ";; Define a var \n",
    "(def age 42)"
   ]
  },
  {
   "cell_type": "code",
   "execution_count": 6,
   "metadata": {
    "autoscroll": false,
    "ein.tags": "worksheet-0",
    "slideshow": {
     "slide_type": "-"
    }
   },
   "outputs": [
    {
     "data": {
      "text/plain": [
       "\"Fred Dagg\""
      ]
     },
     "execution_count": 6,
     "metadata": {},
     "output_type": "execute_result"
    }
   ],
   "source": [
    ";; Let defines vars in a lexical scope (and returns the value of the last form)\n",
    "(let [first-name \"Fred\"\n",
    "      last-name \"Dagg\"]\n",
    "  (str first-name \" \" last-name))"
   ]
  },
  {
   "cell_type": "markdown",
   "metadata": {
    "ein.tags": "worksheet-0",
    "slideshow": {
     "slide_type": "subslide"
    }
   },
   "source": [
    "### Collections"
   ]
  },
  {
   "cell_type": "markdown",
   "metadata": {
    "ein.tags": "worksheet-0",
    "slideshow": {
     "slide_type": "subslide"
    }
   },
   "source": [
    "#### Vectors"
   ]
  },
  {
   "cell_type": "code",
   "execution_count": 7,
   "metadata": {
    "autoscroll": false,
    "ein.tags": "worksheet-0",
    "slideshow": {
     "slide_type": "-"
    }
   },
   "outputs": [
    {
     "data": {
      "text/plain": [
       "[1 2 3 4 5]"
      ]
     },
     "execution_count": 7,
     "metadata": {},
     "output_type": "execute_result"
    }
   ],
   "source": [
    ";; Vectors are array-backed sequences; most similar to a Python list\n",
    "[1 2 3 4 5]"
   ]
  },
  {
   "cell_type": "code",
   "execution_count": 8,
   "metadata": {
    "autoscroll": false,
    "ein.tags": "worksheet-0",
    "slideshow": {
     "slide_type": "fragment"
    }
   },
   "outputs": [
    {
     "name": "stdout",
     "output_type": "stream",
     "text": [
      "5\n",
      "1\n",
      "(2 3 4 5)\n",
      "2\n"
     ]
    }
   ],
   "source": [
    ";; Basic sequence operations on a vector\n",
    "(let [my-vector [1 2 3 4 5]]\n",
    "  (println (count my-vector))\n",
    "  (println (first my-vector))\n",
    "  (println (rest my-vector)) ;; Returns a sequence\n",
    "  (println (nth my-vector 1)))"
   ]
  },
  {
   "cell_type": "code",
   "execution_count": 9,
   "metadata": {
    "autoscroll": false,
    "ein.tags": "worksheet-0",
    "slideshow": {
     "slide_type": "subslide"
    }
   },
   "outputs": [
    {
     "data": {
      "text/plain": [
       "[1 2 3 4 5 42]"
      ]
     },
     "execution_count": 9,
     "metadata": {},
     "output_type": "execute_result"
    }
   ],
   "source": [
    ";; Append to a vector with conj (returns a new vector)\n",
    "(conj [1 2 3 4 5] 42)"
   ]
  },
  {
   "cell_type": "code",
   "execution_count": 10,
   "metadata": {
    "autoscroll": false,
    "ein.tags": "worksheet-0",
    "slideshow": {
     "slide_type": "-"
    }
   },
   "outputs": [
    {
     "data": {
      "text/plain": [
       "[1 2 3 4]"
      ]
     },
     "execution_count": 10,
     "metadata": {},
     "output_type": "execute_result"
    }
   ],
   "source": [
    ";; Remove last item in a vector\n",
    "(pop [1 2 3 4 5])"
   ]
  },
  {
   "cell_type": "code",
   "execution_count": 11,
   "metadata": {
    "autoscroll": false,
    "ein.tags": "worksheet-0",
    "slideshow": {
     "slide_type": "-"
    }
   },
   "outputs": [
    {
     "data": {
      "text/plain": [
       "(1 2 3 4)"
      ]
     },
     "execution_count": 11,
     "metadata": {},
     "output_type": "execute_result"
    }
   ],
   "source": [
    ";; Concatenate Vectors\n",
    "(concat [1 2] [3 4])"
   ]
  },
  {
   "cell_type": "markdown",
   "metadata": {
    "ein.tags": "worksheet-0",
    "slideshow": {
     "slide_type": "subslide"
    }
   },
   "source": [
    "#### Maps"
   ]
  },
  {
   "cell_type": "code",
   "execution_count": 12,
   "metadata": {
    "autoscroll": false,
    "ein.tags": "worksheet-0",
    "slideshow": {
     "slide_type": "-"
    }
   },
   "outputs": [
    {
     "data": {
      "text/plain": [
       "{:first-name \"Fred\", :last-name \"Dagg\"}"
      ]
     },
     "execution_count": 12,
     "metadata": {},
     "output_type": "execute_result"
    }
   ],
   "source": [
    ";; Same idea as a Python dictionary\n",
    "{:first-name \"Fred\"\n",
    " :last-name \"Dagg\"}\n",
    ";; Commas aren't needed, and are treated as whitespace in Clojure"
   ]
  },
  {
   "cell_type": "code",
   "execution_count": 13,
   "metadata": {
    "autoscroll": false,
    "ein.tags": "worksheet-0",
    "slideshow": {
     "slide_type": "-"
    }
   },
   "outputs": [
    {
     "name": "stdout",
     "output_type": "stream",
     "text": [
      "{:first-name Fred, :last-name Dagg}\n",
      "{}\n"
     ]
    }
   ],
   "source": [
    ";; Associate a key\n",
    "(println (assoc {:first-name \"Fred\"} :last-name \"Dagg\"))\n",
    ";; Disassociate a key\n",
    "(println (dissoc {:first-name \"Fred\"} :first-name))"
   ]
  },
  {
   "cell_type": "code",
   "execution_count": 14,
   "metadata": {
    "autoscroll": false,
    "ein.tags": "worksheet-0",
    "slideshow": {
     "slide_type": "subslide"
    }
   },
   "outputs": [
    {
     "data": {
      "text/plain": [
       "\"Fred\""
      ]
     },
     "execution_count": 14,
     "metadata": {},
     "output_type": "execute_result"
    }
   ],
   "source": [
    ";; Keywords can act as functions to access values\n",
    "(:first-name {:first-name \"Fred\"})"
   ]
  },
  {
   "cell_type": "code",
   "execution_count": 15,
   "metadata": {
    "autoscroll": false,
    "ein.tags": "worksheet-0",
    "slideshow": {
     "slide_type": "-"
    }
   },
   "outputs": [
    {
     "data": {
      "text/plain": [
       "\"Fred\""
      ]
     },
     "execution_count": 15,
     "metadata": {},
     "output_type": "execute_result"
    }
   ],
   "source": [
    ";; Any value can be a key, but you need to use get to access values\n",
    "(get {\"first-name\" \"Fred\"} \"first-name\")"
   ]
  },
  {
   "cell_type": "code",
   "execution_count": 16,
   "metadata": {
    "autoscroll": false,
    "ein.tags": "worksheet-0",
    "slideshow": {
     "slide_type": "subslide"
    }
   },
   "outputs": [
    {
     "name": "stdout",
     "output_type": "stream",
     "text": [
      "(:first-name :last-name)\n",
      "(Fred Dagg)\n",
      "[[:first-name Fred] [:last-name Dagg]]\n"
     ]
    }
   ],
   "source": [
    "(let [my-map {:first-name \"Fred\" :last-name \"Dagg\"}]\n",
    "  ;; Get a sequence of keys or values\n",
    "  (println (keys my-map))\n",
    "  (println (vals my-map))\n",
    "  ;; Converting to a vector (or using as a sequence) gives key/value pairs\n",
    "  (println (vec my-map)))"
   ]
  },
  {
   "cell_type": "markdown",
   "metadata": {
    "ein.tags": "worksheet-0",
    "slideshow": {
     "slide_type": "subslide"
    }
   },
   "source": [
    "#### Other Collections"
   ]
  },
  {
   "cell_type": "code",
   "execution_count": 17,
   "metadata": {
    "autoscroll": false,
    "ein.tags": "worksheet-0",
    "slideshow": {
     "slide_type": "-"
    }
   },
   "outputs": [
    {
     "name": "stdout",
     "output_type": "stream",
     "text": [
      "(42 1 2 3 4 5)\n",
      "(2 3 4 5)\n"
     ]
    }
   ],
   "source": [
    ";; Lists (linked-list sequence, supports the same operations as a vector)\n",
    "(let [my-list '(1 2 3 4 5)]\n",
    "  ;; Conj/pop work at the front of a list (most efficient operation)\n",
    "  (println (conj my-list 42))\n",
    "  (println (pop my-list)))"
   ]
  },
  {
   "cell_type": "code",
   "execution_count": 18,
   "metadata": {
    "autoscroll": false,
    "ein.tags": "worksheet-0",
    "slideshow": {
     "slide_type": "-"
    }
   },
   "outputs": [
    {
     "data": {
      "text/plain": [
       "true"
      ]
     },
     "execution_count": 18,
     "metadata": {},
     "output_type": "execute_result"
    }
   ],
   "source": [
    ";; Sets\n",
    "(contains? #{1 2 3 4 5} 5)"
   ]
  },
  {
   "cell_type": "markdown",
   "metadata": {
    "ein.tags": "worksheet-0",
    "slideshow": {
     "slide_type": "subslide"
    }
   },
   "source": [
    "### Flow Control"
   ]
  },
  {
   "cell_type": "code",
   "execution_count": 19,
   "metadata": {
    "autoscroll": false,
    "ein.tags": "worksheet-0",
    "slideshow": {
     "slide_type": "-"
    }
   },
   "outputs": [
    {
     "data": {
      "text/plain": [
       "\"False!\""
      ]
     },
     "execution_count": 19,
     "metadata": {},
     "output_type": "execute_result"
    }
   ],
   "source": [
    ";; If/else statement (Note that if returns the value of the executed form))\n",
    "(if (= true false) ;; Single equals for equality\n",
    "  \"True!\"\n",
    "  \"False!\")"
   ]
  },
  {
   "cell_type": "code",
   "execution_count": 20,
   "metadata": {
    "autoscroll": false,
    "ein.tags": "worksheet-0",
    "slideshow": {
     "slide_type": "subslide"
    }
   },
   "outputs": [
    {
     "name": "stdout",
     "output_type": "stream",
     "text": [
      "True!\n"
     ]
    },
    {
     "data": {
      "text/plain": [
       "\"truthy-return-value\""
      ]
     },
     "execution_count": 20,
     "metadata": {},
     "output_type": "execute_result"
    }
   ],
   "source": [
    ";; Use do to run multiple statements in a single \"form\" (usually only needed for side-effects)\n",
    ";; do also returns the last value in the form\n",
    "(if (and true (not (or false nil))) ;; false and nil are the only \"falsey\" values\n",
    "  (do\n",
    "    (println \"True!\")\n",
    "    \"truthy-return-value\")\n",
    "  (do\n",
    "    (println \"False!\")\n",
    "    \"falsey-return-value\"))"
   ]
  },
  {
   "cell_type": "code",
   "execution_count": 21,
   "metadata": {
    "autoscroll": false,
    "ein.tags": "worksheet-0",
    "slideshow": {
     "slide_type": "subslide"
    }
   },
   "outputs": [
    {
     "data": {
      "text/plain": [
       "\"Positive\""
      ]
     },
     "execution_count": 21,
     "metadata": {},
     "output_type": "execute_result"
    }
   ],
   "source": [
    ";; cond is an alternative to if/elseif/else\n",
    "(def n 42)\n",
    "(cond (< n 0) \"Negative\"\n",
    "      (> n 0) \"Positive\"\n",
    "      :else \"Zero\")"
   ]
  },
  {
   "cell_type": "markdown",
   "metadata": {
    "ein.tags": "worksheet-0",
    "slideshow": {
     "slide_type": "subslide"
    }
   },
   "source": [
    "### Functions"
   ]
  },
  {
   "cell_type": "code",
   "execution_count": 22,
   "metadata": {
    "autoscroll": false,
    "ein.tags": "worksheet-0",
    "slideshow": {
     "slide_type": "-"
    }
   },
   "outputs": [
    {
     "data": {
      "text/plain": [
       "#'user/greeting"
      ]
     },
     "execution_count": 22,
     "metadata": {},
     "output_type": "execute_result"
    }
   ],
   "source": [
    ";; Define a function\n",
    "(defn greeting\n",
    "  \"Docstring goes here...\"\n",
    "  [full-name]\n",
    "  (str \"Hello \" full-name))"
   ]
  },
  {
   "cell_type": "code",
   "execution_count": 23,
   "metadata": {
    "autoscroll": false,
    "ein.tags": "worksheet-0",
    "slideshow": {
     "slide_type": "-"
    }
   },
   "outputs": [
    {
     "data": {
      "text/plain": [
       "\"Hello Fred Dagg\""
      ]
     },
     "execution_count": 23,
     "metadata": {},
     "output_type": "execute_result"
    }
   ],
   "source": [
    ";; The value of the last form is the return value\n",
    "(greeting \"Fred Dagg\")"
   ]
  },
  {
   "cell_type": "code",
   "execution_count": 24,
   "metadata": {
    "autoscroll": false,
    "ein.tags": "worksheet-0",
    "slideshow": {
     "slide_type": "subslide"
    }
   },
   "outputs": [
    {
     "data": {
      "text/plain": [
       "\"Hello Fred Dagg\""
      ]
     },
     "execution_count": 24,
     "metadata": {},
     "output_type": "execute_result"
    }
   ],
   "source": [
    ";; A function can support multiple signatures\n",
    "(defn greeting\n",
    "  ([first-name last-name]\n",
    "    (greeting (str first-name \" \" last-name)))\n",
    "  ([full-name]\n",
    "    (str \"Hello \" full-name)))\n",
    "\n",
    "(greeting \"Fred\" \"Dagg\")"
   ]
  },
  {
   "cell_type": "code",
   "execution_count": 25,
   "metadata": {
    "slideshow": {
     "slide_type": "subslide"
    }
   },
   "outputs": [
    {
     "name": "stdout",
     "output_type": "stream",
     "text": [
      "Hello Fred Dagg\n",
      "Hello Trev Dagg\n",
      "Hello Bruce Bayliss\n"
     ]
    }
   ],
   "source": [
    ";; Functions can have variadic signatures\n",
    "(defn greeting\n",
    "  [& full-names]\n",
    "  (doseq [full-name full-names]\n",
    "    (println \"Hello\" full-name)))\n",
    "\n",
    "(greeting \"Fred Dagg\" \"Trev Dagg\" \"Bruce Bayliss\")"
   ]
  },
  {
   "cell_type": "code",
   "execution_count": 26,
   "metadata": {
    "autoscroll": false,
    "ein.tags": "worksheet-0",
    "slideshow": {
     "slide_type": "-"
    }
   },
   "outputs": [
    {
     "data": {
      "text/plain": [
       "\"Gidday Fred Dagg\""
      ]
     },
     "execution_count": 26,
     "metadata": {},
     "output_type": "execute_result"
    }
   ],
   "source": [
    ";; Functions can support keyword arguments\n",
    "(defn greeting\n",
    "  [full-name & {:keys [salutation]\n",
    "                :or {salutation \"Hello\"}}]\n",
    "  (str salutation \" \" full-name))\n",
    "\n",
    "(greeting \"Fred Dagg\" :salutation \"Gidday\")"
   ]
  },
  {
   "cell_type": "code",
   "execution_count": 27,
   "metadata": {
    "autoscroll": false,
    "ein.tags": "worksheet-0",
    "slideshow": {
     "slide_type": "subslide"
    }
   },
   "outputs": [
    {
     "data": {
      "text/plain": [
       "[4 16 2]"
      ]
     },
     "execution_count": 27,
     "metadata": {},
     "output_type": "execute_result"
    }
   ],
   "source": [
    ";; Anonymous functions\n",
    "(let [add (fn [x y] (+ x y))\n",
    "      square #(* % %)\n",
    "      sub #(- %1 %2)]\n",
    "  [(add 1 3)\n",
    "   (square 4)\n",
    "   (sub 3 1)])"
   ]
  },
  {
   "cell_type": "markdown",
   "metadata": {
    "ein.tags": "worksheet-0",
    "slideshow": {
     "slide_type": "slide"
    }
   },
   "source": [
    "## Functional Programming"
   ]
  },
  {
   "cell_type": "code",
   "execution_count": 28,
   "metadata": {
    "autoscroll": false,
    "ein.tags": "worksheet-0",
    "slideshow": {
     "slide_type": "subslide"
    }
   },
   "outputs": [
    {
     "data": {
      "text/plain": [
       "(2 4 6 8 10)"
      ]
     },
     "execution_count": 28,
     "metadata": {},
     "output_type": "execute_result"
    }
   ],
   "source": [
    ";; Immutable data structures require different ways of thinking\n",
    "(defn double-values\n",
    "  [values]\n",
    "  (if (empty? values)\n",
    "    '()\n",
    "    (conj (double-values (rest values))\n",
    "          (* 2 (first values)))))\n",
    "\n",
    "(double-values [1 2 3 4 5])"
   ]
  },
  {
   "cell_type": "code",
   "execution_count": 29,
   "metadata": {
    "autoscroll": false,
    "ein.tags": "worksheet-0",
    "slideshow": {
     "slide_type": "fragment"
    }
   },
   "outputs": [
    {
     "data": {
      "text/plain": [
       "\"Woops...\""
      ]
     },
     "execution_count": 29,
     "metadata": {},
     "output_type": "execute_result"
    }
   ],
   "source": [
    ";; Watch out for stack overflow...\n",
    "(try\n",
    "  (double-values (range 99999))\n",
    "  (catch StackOverflowError ex \"Woops...\"))"
   ]
  },
  {
   "cell_type": "code",
   "execution_count": 30,
   "metadata": {
    "autoscroll": false,
    "ein.tags": "worksheet-0",
    "slideshow": {
     "slide_type": "subslide"
    }
   },
   "outputs": [
    {
     "data": {
      "text/plain": [
       "(0 2 4 6 8)"
      ]
     },
     "execution_count": 30,
     "metadata": {},
     "output_type": "execute_result"
    }
   ],
   "source": [
    ";; Use tail-recursion to avoid stack-overflow\n",
    "(defn double-values-recursive\n",
    "  ([values]\n",
    "   (double-values-recursive values []))\n",
    "  ([values new-values]\n",
    "   (if (empty? values)\n",
    "     new-values\n",
    "     (recur (rest values) (conj new-values (* 2 (first values)))))))\n",
    "\n",
    "(take 5 (double-values-recursive (range 99999)))"
   ]
  },
  {
   "cell_type": "code",
   "execution_count": 31,
   "metadata": {
    "autoscroll": false,
    "ein.tags": "worksheet-0",
    "slideshow": {
     "slide_type": "subslide"
    }
   },
   "outputs": [
    {
     "data": {
      "text/plain": [
       "(0 2 4 6 8)"
      ]
     },
     "execution_count": 31,
     "metadata": {},
     "output_type": "execute_result"
    }
   ],
   "source": [
    ";; Tail-recursion with loop\n",
    "(defn double-values-loop\n",
    "  [values]\n",
    "  (loop [values values\n",
    "         new-values []]\n",
    "    (if (empty? values)\n",
    "      new-values\n",
    "      (recur (rest values)\n",
    "        (conj new-values (* 2 (first values)))))))\n",
    "\n",
    "(take 5 (double-values-loop (range 99999)))"
   ]
  },
  {
   "cell_type": "code",
   "execution_count": 32,
   "metadata": {
    "autoscroll": false,
    "ein.tags": "worksheet-0",
    "slideshow": {
     "slide_type": "subslide"
    }
   },
   "outputs": [
    {
     "name": "stdout",
     "output_type": "stream",
     "text": [
      "[2 4 6 8 10]\n",
      "[2 4 6 8 10]\n"
     ]
    }
   ],
   "source": [
    ";; Higher-order functions are great for abstracting ideas\n",
    "(defn alter-values\n",
    "  [func values]\n",
    "  (loop [values values\n",
    "         new-values []]\n",
    "    (if (empty? values)\n",
    "      new-values\n",
    "      (recur (rest values)\n",
    "        (conj new-values (func (first values)))))))\n",
    "\n",
    "(println (alter-values #(* 2 %) [1 2 3 4 5]))\n",
    "(println (alter-values (partial * 2) [1 2 3 4 5]))"
   ]
  },
  {
   "cell_type": "markdown",
   "metadata": {
    "ein.tags": "worksheet-0",
    "slideshow": {
     "slide_type": "subslide"
    }
   },
   "source": [
    "### Pure functions FTW!\n",
    "\n",
    "Pure function: Takes an input; returns a value; has no other\n",
    "\"side-effects\" (e.g. I/O, changing state).\n",
    "\n",
    "I.E. Keep I/O operations in the highest functions. We'll see examples\n",
    "later of where it is important for functions to be \"pure\"."
   ]
  },
  {
   "cell_type": "markdown",
   "metadata": {
    "ein.tags": "worksheet-0",
    "slideshow": {
     "slide_type": "slide"
    }
   },
   "source": [
    "## Data Processing"
   ]
  },
  {
   "cell_type": "markdown",
   "metadata": {
    "ein.tags": "worksheet-0",
    "slideshow": {
     "slide_type": "subslide"
    }
   },
   "source": [
    "### Map/Filter/Reduce"
   ]
  },
  {
   "cell_type": "code",
   "execution_count": 33,
   "metadata": {
    "autoscroll": false,
    "ein.tags": "worksheet-0",
    "slideshow": {
     "slide_type": "-"
    }
   },
   "outputs": [
    {
     "data": {
      "text/plain": [
       "(2 4 6 8 10)"
      ]
     },
     "execution_count": 33,
     "metadata": {},
     "output_type": "execute_result"
    }
   ],
   "source": [
    "(map #(* 2 %) [1 2 3 4 5])"
   ]
  },
  {
   "cell_type": "code",
   "execution_count": 34,
   "metadata": {
    "autoscroll": false,
    "ein.tags": "worksheet-0",
    "slideshow": {
     "slide_type": "-"
    }
   },
   "outputs": [
    {
     "data": {
      "text/plain": [
       "(2 4)"
      ]
     },
     "execution_count": 34,
     "metadata": {},
     "output_type": "execute_result"
    }
   ],
   "source": [
    "(filter even? [1 2 3 4 5])"
   ]
  },
  {
   "cell_type": "code",
   "execution_count": 35,
   "metadata": {
    "autoscroll": false,
    "ein.tags": "worksheet-0",
    "slideshow": {
     "slide_type": "-"
    }
   },
   "outputs": [
    {
     "data": {
      "text/plain": [
       "15"
      ]
     },
     "execution_count": 35,
     "metadata": {},
     "output_type": "execute_result"
    }
   ],
   "source": [
    "(reduce + [1 2 3 4 5])"
   ]
  },
  {
   "cell_type": "code",
   "execution_count": 36,
   "metadata": {
    "autoscroll": false,
    "ein.tags": "worksheet-0",
    "slideshow": {
     "slide_type": "fragment"
    }
   },
   "outputs": [
    {
     "data": {
      "text/plain": [
       "\"The numbers are: 1 2 3 4 5\""
      ]
     },
     "execution_count": 36,
     "metadata": {},
     "output_type": "execute_result"
    }
   ],
   "source": [
    ";; Reduce can also take a starting value\n",
    "(reduce #(str %1 \" \" %2) \"The numbers are:\" [1 2 3 4 5])"
   ]
  },
  {
   "cell_type": "code",
   "execution_count": 37,
   "metadata": {
    "autoscroll": false,
    "ein.tags": "worksheet-0",
    "slideshow": {
     "slide_type": "subslide"
    }
   },
   "outputs": [
    {
     "data": {
      "text/plain": [
       "4900"
      ]
     },
     "execution_count": 37,
     "metadata": {},
     "output_type": "execute_result"
    }
   ],
   "source": [
    ";; Composing map/filter/reduce\n",
    "(reduce + (map #(* 2 %) (filter even? (range 100))))"
   ]
  },
  {
   "cell_type": "code",
   "execution_count": 38,
   "metadata": {
    "autoscroll": false,
    "ein.tags": "worksheet-0",
    "slideshow": {
     "slide_type": "fragment"
    }
   },
   "outputs": [
    {
     "data": {
      "text/plain": [
       "4900"
      ]
     },
     "execution_count": 38,
     "metadata": {},
     "output_type": "execute_result"
    }
   ],
   "source": [
    ";; Threading improves readability\n",
    "(->> (range 100)\n",
    "     (filter even?)\n",
    "     (map #(* 2 %))\n",
    "     (reduce +))"
   ]
  },
  {
   "cell_type": "code",
   "execution_count": 39,
   "metadata": {
    "autoscroll": false,
    "ein.tags": "worksheet-0",
    "slideshow": {
     "slide_type": "subslide"
    }
   },
   "outputs": [
    {
     "data": {
      "text/plain": [
       "\"FRED IS THE FIRST NAME\""
      ]
     },
     "execution_count": 39,
     "metadata": {},
     "output_type": "execute_result"
    }
   ],
   "source": [
    "(require '[clojure.string :as string])\n",
    "\n",
    ";; Threading (-> ->> as->) is useful for all sorts of data transformations\n",
    "(-> {:first-name \"Fred\" :last-name \"Dagg\"}\n",
    "    :first-name\n",
    "    (str \" is the first name\")\n",
    "    string/upper-case)"
   ]
  },
  {
   "cell_type": "code",
   "execution_count": 40,
   "metadata": {
    "slideshow": {
     "slide_type": "-"
    }
   },
   "outputs": [
    {
     "data": {
      "text/plain": [
       "{:first-name \"Fred\", :last-name \"Dagg\"}"
      ]
     },
     "execution_count": 40,
     "metadata": {},
     "output_type": "execute_result"
    }
   ],
   "source": [
    ";; Threading to extend a map\n",
    "(-> {}\n",
    "    (assoc :first-name \"Fred\")\n",
    "    (assoc :last-name \"Dagg\"))"
   ]
  },
  {
   "cell_type": "code",
   "execution_count": 41,
   "metadata": {},
   "outputs": [
    {
     "data": {
      "text/plain": [
       "([0 0 0] [0 1 0] [0 2 0] [0 3 0] [1 0 0] [1 2 2] [2 0 0] [2 1 2] [2 2 4] [2 3 6] [3 0 0] [3 2 6])"
      ]
     },
     "execution_count": 41,
     "metadata": {},
     "output_type": "execute_result"
    }
   ],
   "source": [
    ";; List comprehensions are achieved with for\n",
    "(for [x (range 4)\n",
    "      y (range 4)\n",
    "      :let [product (* x y)]\n",
    "      :when (even? product)]\n",
    "  [x y product])"
   ]
  },
  {
   "cell_type": "code",
   "execution_count": 42,
   "metadata": {
    "autoscroll": false,
    "ein.tags": "worksheet-0",
    "slideshow": {
     "slide_type": "subslide"
    }
   },
   "outputs": [
    {
     "data": {
      "text/plain": [
       "(\":first-name has value Fred\" \":last-name has value Dagg\")"
      ]
     },
     "execution_count": 42,
     "metadata": {},
     "output_type": "execute_result"
    }
   ],
   "source": [
    ";; Destructuring is also useful for processing data structures\n",
    "(->> {:first-name \"Fred\" :last-name \"Dagg\"}\n",
    "     (map (fn [[k v]] (str k \" has value \" v))))"
   ]
  },
  {
   "cell_type": "code",
   "execution_count": 43,
   "metadata": {
    "autoscroll": false,
    "ein.tags": "worksheet-0",
    "slideshow": {
     "slide_type": "-"
    }
   },
   "outputs": [
    {
     "name": "stdout",
     "output_type": "stream",
     "text": [
      "Fred\n",
      "Dagg\n",
      "(Farming DIY)\n"
     ]
    }
   ],
   "source": [
    "(require '[clojure.string :as string])\n",
    "\n",
    ";; Destructuring a variable number of sequence items\n",
    "(let [name \"Fred Dagg Farming DIY\"\n",
    "      parts (string/split name #\" \")\n",
    "      [first-name last-name & interests] parts]\n",
    "  (println first-name)\n",
    "  (println last-name)\n",
    "  (println interests))"
   ]
  },
  {
   "cell_type": "code",
   "execution_count": 44,
   "metadata": {
    "autoscroll": false,
    "ein.tags": "worksheet-0",
    "slideshow": {
     "slide_type": "subslide"
    }
   },
   "outputs": [
    {
     "data": {
      "text/plain": [
       "5824"
      ]
     },
     "execution_count": 44,
     "metadata": {},
     "output_type": "execute_result"
    }
   ],
   "source": [
    ";; A data-processing example\n",
    "\n",
    "(require '[clojure.string :as string])\n",
    "\n",
    "(defn text-stats\n",
    " [text]\n",
    " (let [words (string/split text #\" \")]\n",
    "   {:character-count (count text)\n",
    "    :word-count (count words)\n",
    "    :max-word-length (->> words\n",
    "                          (map count)\n",
    "                          (apply max))}))\n",
    "\n",
    "(as-> (slurp \"../LICENSE\") $\n",
    "  (string/split $ #\"\\n\")\n",
    "  (map text-stats $)\n",
    "  (filter #(> (:character-count %) 50) $)\n",
    "  (map :word-count $)\n",
    "  (reduce + $))"
   ]
  },
  {
   "cell_type": "markdown",
   "metadata": {},
   "source": [
    "Clojure favours a small number of data types with many shared functions, rather than many data types with their own functions (e.g. OOP). However, you can define records, which are like Python's named tuples, but act like maps."
   ]
  },
  {
   "cell_type": "code",
   "execution_count": 45,
   "metadata": {},
   "outputs": [
    {
     "name": "stdout",
     "output_type": "stream",
     "text": [
      "Fred\n",
      "#user.User{:first-name Trev, :last-name Dagg}\n",
      "true\n"
     ]
    }
   ],
   "source": [
    "(defrecord User [first-name last-name])\n",
    "\n",
    "(def fred (User. \"Fred\" \"Dagg\"))\n",
    "\n",
    "(println (:first-name fred))\n",
    "(println (assoc fred :first-name \"Trev\"))\n",
    "(println (map? fred))"
   ]
  },
  {
   "cell_type": "code",
   "execution_count": 46,
   "metadata": {},
   "outputs": [
    {
     "name": "stdout",
     "output_type": "stream",
     "text": [
      "Fred Dagg\n"
     ]
    }
   ],
   "source": [
    ";; Protocols are like interfaces\n",
    "(defprotocol Person\n",
    "  (full-name [this]))\n",
    "\n",
    ";; Extend a type (even Java classes!) to a protocol (even after definition!)\n",
    "(extend-type User\n",
    "  Person\n",
    "  (full-name [this]\n",
    "    (str (:first-name this) \" \" (:last-name this))))\n",
    "\n",
    "(println (full-name fred))\n",
    "\n",
    ";; Multimethods provide similar polymorphism but for non-type-based dispatch."
   ]
  },
  {
   "cell_type": "markdown",
   "metadata": {
    "ein.tags": "worksheet-0",
    "slideshow": {
     "slide_type": "slide"
    }
   },
   "source": [
    "## Concurrency"
   ]
  },
  {
   "cell_type": "code",
   "execution_count": 47,
   "metadata": {
    "autoscroll": false,
    "ein.tags": "worksheet-0",
    "slideshow": {
     "slide_type": "subslide"
    }
   },
   "outputs": [
    {
     "name": "stdout",
     "output_type": "stream",
     "text": [
      "\"Elapsed time: 1001.335586 msecs\"\n",
      "\"Elapsed time: 107.462488 msecs\"\n"
     ]
    },
    {
     "data": {
      "text/plain": [
       "(0 1 2 3 4 5 6 7 8 9)"
      ]
     },
     "execution_count": 47,
     "metadata": {},
     "output_type": "execute_result"
    }
   ],
   "source": [
    "(defn slow-func\n",
    "  [arg]\n",
    "  (Thread/sleep 100)\n",
    "  arg)\n",
    "\n",
    "(->> (range 10)\n",
    "     (map slow-func)\n",
    "     (doall)\n",
    "     (time))\n",
    "\n",
    "(->> (range 10)\n",
    "     (pmap slow-func) ;; slow-func must be pure!\n",
    "     (doall)\n",
    "     (time))"
   ]
  },
  {
   "cell_type": "code",
   "execution_count": 48,
   "metadata": {},
   "outputs": [
    {
     "data": {
      "text/plain": [
       "\"A value!\""
      ]
     },
     "execution_count": 48,
     "metadata": {},
     "output_type": "execute_result"
    }
   ],
   "source": [
    ";; Futures run code asynchronously\n",
    "(let [my-future (future\n",
    "                  (Thread/sleep 1000)\n",
    "                  \"A value!\")]\n",
    "  ;; @ forces a future to be resolved before continuing evaluation.\n",
    "  @my-future)"
   ]
  },
  {
   "cell_type": "code",
   "execution_count": 49,
   "metadata": {},
   "outputs": [
    {
     "data": {
      "text/plain": [
       "\"A value!\""
      ]
     },
     "execution_count": 49,
     "metadata": {},
     "output_type": "execute_result"
    }
   ],
   "source": [
    ";; Promises are like futures that you resolve yourself\n",
    "(let [my-promise (promise)]\n",
    "  (deliver my-promise \"A value!\")\n",
    "  @my-promise)"
   ]
  },
  {
   "cell_type": "code",
   "execution_count": 50,
   "metadata": {},
   "outputs": [
    {
     "name": "stdout",
     "output_type": "stream",
     "text": [
      "Found needle at: 30\n"
     ]
    }
   ],
   "source": [
    "(defn search-hay\n",
    "  [[idx item] result-promise]\n",
    "  (Thread/sleep 100)\n",
    "  (when (= item :needle)\n",
    "    (deliver result-promise idx)))\n",
    "\n",
    "(let [needle-promise (promise)\n",
    "      haystack (-> (repeat 99 :hay)\n",
    "                   (conj :needle)\n",
    "                   (shuffle))\n",
    "      search-futures (->> haystack\n",
    "                          (map-indexed vector)\n",
    "                          (map #(future (search-hay % needle-promise)))\n",
    "                          (doall))]\n",
    "   (println \"Found needle at:\" @needle-promise)\n",
    "   (doseq [f search-futures]\n",
    "     (future-cancel f)))"
   ]
  },
  {
   "cell_type": "markdown",
   "metadata": {},
   "source": [
    "If you want to control thread-pool size, see: https://github.com/TheClimateCorporation/claypoole"
   ]
  },
  {
   "cell_type": "markdown",
   "metadata": {
    "ein.tags": "worksheet-0",
    "slideshow": {
     "slide_type": "subslide"
    }
   },
   "source": [
    "Clojure doesn't support mutable variables, but sometimes you need to\n",
    "maintain a concept of changing system state, particularly when you\n",
    "need to share state between multiple threads.\n",
    "\n",
    "Clojure provides **reference types** that are mutable references to\n",
    "immutable values (i.e. you never mutate a list, you just update the\n",
    "reference to point to an updated copy of the list, but Clojure's\n",
    "persistent data-structures makes this much more resource efficient\n",
    "                  than it sounds).\n",
    "\n",
    "An atom is a reference type that stores a value, and allows functions\n",
    "to be applied to change the value. If two threads simultaneously\n",
    "change the same atom, this will be detected, and one of the functions\n",
    "will be re-applied on the value that was the result of the other\n",
    "function. Because a function that changes the value may be applied\n",
    "more than once, it MUST be pure."
   ]
  },
  {
   "cell_type": "code",
   "execution_count": 51,
   "metadata": {
    "autoscroll": false,
    "ein.tags": "worksheet-0",
    "slideshow": {
     "slide_type": "-"
    }
   },
   "outputs": [
    {
     "name": "stdout",
     "output_type": "stream",
     "text": [
      "Initial counter value: 0\n",
      "New counter value: 1\n",
      "New counter value: 2\n",
      "Woops...\n"
     ]
    }
   ],
   "source": [
    "(def my-counter (atom 0))\n",
    "(println (str \"Initial counter value: \" @my-counter))\n",
    "\n",
    ";; Call a watcher function whenever the atom is updated\n",
    "(add-watch my-counter :my-watcher\n",
    "  (fn [key atom old-state new-state]\n",
    "    (println (str \"New counter value: \" new-state))))\n",
    "\n",
    ";; Validate the state of an atom\n",
    "(set-validator! my-counter #(<= % 2))\n",
    "\n",
    "(swap! my-counter inc)\n",
    "(swap! my-counter inc)\n",
    "(try\n",
    "  (swap! my-counter inc)\n",
    "  (catch IllegalStateException ex (println \"Woops...\")))"
   ]
  },
  {
   "cell_type": "code",
   "execution_count": 52,
   "metadata": {},
   "outputs": [
    {
     "data": {
      "text/plain": [
       "1000"
      ]
     },
     "execution_count": 52,
     "metadata": {},
     "output_type": "execute_result"
    }
   ],
   "source": [
    "(let [counter (atom 0)]\n",
    "  (->> (range 1000)\n",
    "       ;; Increment in many different threads\n",
    "       (map (fn [i] (future (swap! counter inc))))\n",
    "       (doall)\n",
    "       ;; Ensure all the futures are resolved\n",
    "       (map deref)\n",
    "       (doall))\n",
    "  @counter)"
   ]
  },
  {
   "cell_type": "code",
   "execution_count": 53,
   "metadata": {
    "autoscroll": false,
    "ein.tags": "worksheet-0",
    "slideshow": {
     "slide_type": "subslide"
    }
   },
   "outputs": [
    {
     "name": "stdout",
     "output_type": "stream",
     "text": [
      "\"Elapsed time: 428.608387 msecs\"\n",
      "\"Elapsed time: 0.69139 msecs\"\n"
     ]
    },
    {
     "data": {
      "text/plain": [
       "9227465"
      ]
     },
     "execution_count": 53,
     "metadata": {},
     "output_type": "execute_result"
    }
   ],
   "source": [
    ";; Using an atom as a memoizing \"cache\" (example from: https://clojure.org/reference/atoms)\n",
    "(defn my-memoize [f]\n",
    "  (let [mem (atom {})]\n",
    "    (fn [& args]\n",
    "      (if-let [e (find @mem args)]\n",
    "        (val e)\n",
    "        (let [ret (apply f args)]\n",
    "          (swap! mem assoc args ret)\n",
    "          ret)))))\n",
    "\n",
    "(defn fib [n]\n",
    "  (if (<= n 1)\n",
    "    n\n",
    "    (+ (fib (dec n)) (fib (- n 2)))))\n",
    "\n",
    "(time (fib 35))\n",
    "\n",
    "(def fib (my-memoize fib))\n",
    "\n",
    "(time (fib 35))"
   ]
  },
  {
   "cell_type": "code",
   "execution_count": 54,
   "metadata": {},
   "outputs": [
    {
     "data": {
      "text/plain": [
       "[0 100]"
      ]
     },
     "execution_count": 54,
     "metadata": {},
     "output_type": "execute_result"
    }
   ],
   "source": [
    ";; Refs can coordinate simultaneous updates to multiple\n",
    ";; references in synchronised transactions (using STM).\n",
    "(def balance1 (ref 100))\n",
    "(def balance2 (ref 0))\n",
    "\n",
    "(defn transfer\n",
    "  [from to amount]\n",
    "  (dosync\n",
    "    (alter from #(- % amount))\n",
    "    (alter to #(+ % amount))))\n",
    "\n",
    "(->> (range 100)\n",
    "     ;; Transfer $1 at a time in many different threads\n",
    "     (map (fn [i] (future (transfer balance1 balance2 1))))\n",
    "     (doall)\n",
    "     ;; Ensure all the futures are resolved\n",
    "     (map deref)\n",
    "     (doall))\n",
    "\n",
    "[@balance1 @balance2]"
   ]
  },
  {
   "cell_type": "markdown",
   "metadata": {
    "ein.tags": "worksheet-0",
    "slideshow": {
     "slide_type": "slide"
    }
   },
   "source": [
    "## Lisp"
   ]
  },
  {
   "cell_type": "markdown",
   "metadata": {
    "ein.tags": "worksheet-0",
    "slideshow": {
     "slide_type": "subslide"
    }
   },
   "source": [
    "You may have noticed that the code we have been writing is made up of\n",
    "the same data-structures as are supported. This is the property of\n",
    "homoiconicity (code is data) that Clojure shares with the rest of the\n",
    "Lisp family of languages.\n",
    "\n",
    "To take advantage of this, Lisp's allow the definition of **macros**,\n",
    "which can be thought of as functions that take the raw forms they are\n",
    "passed as input instead of the values they evaluate to.\n",
    "\n",
    "Macros allow the core of the language to be very small, as most\n",
    "functionality can be achieved through macros.\n",
    "\n",
    "Macros mean that library developers have almost as much power as the\n",
    "language developers themselves. A great example of this is the\n",
    "[core.async](https://github.com/clojure/core.async) library, which\n",
    "provides co-routine syntax very similar to that of Go, or the\n",
    "[Korma](http://sqlkorma.com/) library for building SQL queries in a\n",
    "way that allows them to be manipulated like other data-structures.\n",
    "\n",
    "It is worth noting however that macros do add complexity to the code,\n",
    "and should really only be used as a last resort for achieving better\n",
    "syntax. In general, a macro will be written in a light-weight fashion\n",
    "that makes use of other functions to transform forms."
   ]
  },
  {
   "cell_type": "code",
   "execution_count": 55,
   "metadata": {
    "autoscroll": false,
    "ein.tags": "worksheet-0",
    "slideshow": {
     "slide_type": "-"
    }
   },
   "outputs": [
    {
     "data": {
      "text/plain": [
       "(if true (do (println \"True!\")))"
      ]
     },
     "execution_count": 55,
     "metadata": {},
     "output_type": "execute_result"
    }
   ],
   "source": [
    ";; See how when is a macro that translates into an if statement.\n",
    "(macroexpand '(when true (println \"True!\")))"
   ]
  },
  {
   "cell_type": "code",
   "execution_count": 56,
   "metadata": {
    "autoscroll": false,
    "ein.tags": "worksheet-0",
    "slideshow": {
     "slide_type": "subslide"
    }
   },
   "outputs": [
    {
     "data": {
      "text/plain": [
       "#'user/infix"
      ]
     },
     "execution_count": 56,
     "metadata": {},
     "output_type": "execute_result"
    }
   ],
   "source": [
    "(defmacro infix\n",
    "  [original-form]\n",
    "  (let [[arg1 op arg2] original-form]\n",
    "    (list op arg1 arg2)))"
   ]
  },
  {
   "cell_type": "code",
   "execution_count": 57,
   "metadata": {
    "autoscroll": false,
    "ein.tags": "worksheet-0",
    "slideshow": {
     "slide_type": "-"
    }
   },
   "outputs": [
    {
     "data": {
      "text/plain": [
       "2"
      ]
     },
     "execution_count": 57,
     "metadata": {},
     "output_type": "execute_result"
    }
   ],
   "source": [
    "(infix (1 + 1))"
   ]
  },
  {
   "cell_type": "code",
   "execution_count": 58,
   "metadata": {
    "autoscroll": false,
    "ein.tags": "worksheet-0",
    "slideshow": {
     "slide_type": "-"
    }
   },
   "outputs": [
    {
     "data": {
      "text/plain": [
       "(+ 1 1)"
      ]
     },
     "execution_count": 58,
     "metadata": {},
     "output_type": "execute_result"
    }
   ],
   "source": [
    "(macroexpand '(infix (1 + 1)))"
   ]
  },
  {
   "cell_type": "code",
   "execution_count": 59,
   "metadata": {
    "slideshow": {
     "slide_type": "subslide"
    }
   },
   "outputs": [
    {
     "data": {
      "text/plain": [
       "#'user/debug"
      ]
     },
     "execution_count": 59,
     "metadata": {},
     "output_type": "execute_result"
    }
   ],
   "source": [
    "(def debug-level 2)\n",
    "\n",
    "(defmacro debug\n",
    "  [level & body]\n",
    "  `(when (>= ~level debug-level)\n",
    "     ~@body))"
   ]
  },
  {
   "cell_type": "code",
   "execution_count": 60,
   "metadata": {
    "slideshow": {
     "slide_type": "-"
    }
   },
   "outputs": [
    {
     "data": {
      "text/plain": [
       "(if (clojure.core/>= 3 user/debug-level) (do (println \"log this\")))"
      ]
     },
     "execution_count": 60,
     "metadata": {},
     "output_type": "execute_result"
    }
   ],
   "source": [
    "(macroexpand '(debug 3 (println \"log this\")))"
   ]
  },
  {
   "cell_type": "markdown",
   "metadata": {
    "ein.tags": "worksheet-0",
    "slideshow": {
     "slide_type": "slide"
    }
   },
   "source": [
    "Fun facts: There is a long history of Lisp languages, the most famous\n",
    "of which are probably Common Lisp, Scheme, and Elisp\n",
    "(emacs-lisp). Lisp is actually a really easy language to implement:\n",
    "[http://norvig.com/lispy.html](http://norvig.com/lispy.html). The\n",
    "roots of Lisp go all the way back to Alonzo Church's [Lambda\n",
    "Calculus](https://en.wikipedia.org/wiki/Lambda_calculus), which is\n",
    "computationally equivalent to the concept of Turing Machines, and was\n",
    "developed indepdently as the same year. If you're interested in Lisp,\n",
    "have a look at the classic \"wizard book\" [Structure and Interpretation\n",
    "of Computer\n",
    "Programs](https://mitpress.mit.edu/sites/default/files/sicp/index.html)."
   ]
  },
  {
   "cell_type": "markdown",
   "metadata": {
    "ein.tags": "worksheet-0",
    "slideshow": {
     "slide_type": "slide"
    }
   },
   "source": [
    "## JVM Hosted"
   ]
  },
  {
   "cell_type": "markdown",
   "metadata": {
    "ein.tags": "worksheet-0",
    "slideshow": {
     "slide_type": "subslide"
    }
   },
   "source": [
    "Clojure has a small core (philosophically different to\n",
    "\"batteries-included\"), and makes use of the platform it is hosted on,\n",
    "either the JVM (Clojure), JavaScript (ClojureScript) or Window's CLR\n",
    "(ClojureCLR)."
   ]
  },
  {
   "cell_type": "code",
   "execution_count": 61,
   "metadata": {
    "autoscroll": false,
    "ein.tags": "worksheet-0",
    "slideshow": {
     "slide_type": "-"
    }
   },
   "outputs": [
    {
     "data": {
      "text/plain": [
       "\"Sun Apr 22 07:51:33 UTC 2018\""
      ]
     },
     "execution_count": 61,
     "metadata": {},
     "output_type": "execute_result"
    }
   ],
   "source": [
    "(let [now (java.util.Date.)]\n",
    "  (.toString now))"
   ]
  },
  {
   "cell_type": "markdown",
   "metadata": {
    "ein.tags": "worksheet-0",
    "slideshow": {
     "slide_type": "subslide"
    }
   },
   "source": [
    "You can even implement Java interfaces in Clojure and provide classes\n",
    "for Java files to use."
   ]
  },
  {
   "cell_type": "code",
   "execution_count": 62,
   "metadata": {},
   "outputs": [
    {
     "name": "stdout",
     "output_type": "stream",
     "text": [
      "Callable called!\n"
     ]
    }
   ],
   "source": [
    "(import '(java.util.concurrent Callable))\n",
    "\n",
    "(def my-callable\n",
    "  (reify Callable\n",
    "    (call [this]\n",
    "      (println \"Callable called!\"))))\n",
    "\n",
    "(.call my-callable)\n",
    "\n",
    ";; Records can also implement interfaces, and you can reify protocols (even multiple protocols and interfaces!)"
   ]
  },
  {
   "cell_type": "markdown",
   "metadata": {},
   "source": [
    "Most Clojure libraries are just Clojure-style wrappers around existing\n",
    "Java libraries. Even Clojure package management is just based on\n",
    "Java's Maven. For example, Incanter provides a wrapper around\n",
    "JFreeChart (as well as data-science helpers)."
   ]
  },
  {
   "cell_type": "code",
   "execution_count": 63,
   "metadata": {
    "autoscroll": false,
    "ein.tags": "worksheet-0",
    "slideshow": {
     "slide_type": "-"
    }
   },
   "outputs": [
    {
     "data": {
      "image/png": "[encoded data removed]"
     },
     "execution_count": 63,
     "metadata": {},
     "output_type": "execute_result"
    }
   ],
   "source": [
    "(require '[clojupyter.misc.helper :as helper])\n",
    "(helper/add-dependencies '[incanter \"1.5.7\"])\n",
    "\n",
    "(use '(incanter stats charts))\n",
    "(-> (sample-normal 10000)\n",
    "    histogram\n",
    "    (.createBufferedImage 600 400))"
   ]
  },
  {
   "cell_type": "markdown",
   "metadata": {
    "ein.tags": "worksheet-0",
    "slideshow": {
     "slide_type": "subslide"
    }
   },
   "source": [
    "\n",
    "If you're interested in the concept of a language like Clojure but\n",
    "hosted on Python instead (so that you can use all of Python's great\n",
    "libraries), see: [Hy](http://hylang.org/)."
   ]
  },
  {
   "cell_type": "markdown",
   "metadata": {
    "ein.tags": "worksheet-0",
    "slideshow": {
     "slide_type": "slide"
    }
   },
   "source": [
    "## Building a Project"
   ]
  },
  {
   "cell_type": "markdown",
   "metadata": {
    "slideshow": {
     "slide_type": "-"
    }
   },
   "source": [
    "To see how easy it is to build/package a project, try the following commands in your terminal:\n",
    "\n",
    "```bash\n",
    "make bash\n",
    "cd projects\n",
    "# To start a new project\n",
    "lein new app my-app\n",
    "cd my-app\n",
    "# Run the app\n",
    "lein run\n",
    "# Package the app (including dependencies)\n",
    "lein uberjar\n",
    "# Run the packaged app (on any machine with java)\n",
    "java -jar target/uberjar/my-app-0.1.0-SNAPSHOT-standalone.jar\n",
    "```"
   ]
  },
  {
   "cell_type": "markdown",
   "metadata": {
    "ein.tags": "worksheet-0",
    "slideshow": {
     "slide_type": "slide"
    }
   },
   "source": [
    "## Web Development"
   ]
  },
  {
   "cell_type": "markdown",
   "metadata": {
    "autoscroll": false,
    "ein.tags": "worksheet-0",
    "slideshow": {
     "slide_type": "subslide"
    }
   },
   "source": [
    "The most out-of-the-box Clojure web dev library is [Luminus](http://www.luminusweb.net/).\n",
    "\n",
    "Luminus (like many Clojure web-dev libraries) is based on [Ring](https://github.com/ring-clojure/ring). Ring takes a functional view of web-applications: an app is just a function for converting a **request** (represented as a map) into a **response** (also represented as a map). In this model, testing is easy (just call your application function with a fake response map), applications are server-agnostic (as long as the server can produce request maps and serve response maps), and middleware can be implemented as higher-order functions that operate on your application:\n",
    "\n",
    "```clojure\n",
    "(def app\n",
    "  (-> my-request-handler\n",
    "      middleware-a\n",
    "      middleware-b)\n",
    "```\n",
    "\n",
    "[Hiccup](https://github.com/weavejester/hiccup) is also a popular Clojure(Script) library for generating HTML from Clojure data-structures, which makes it easy to use all of the existing tools for processing Clojure data-structures generating/manipulating the DOM structure."
   ]
  },
  {
   "cell_type": "markdown",
   "metadata": {
    "slideshow": {
     "slide_type": "subslide"
    }
   },
   "source": [
    "Modern JS libraries (particularly React) see an app's view as a function of the application state: `view = f(state)`. This aligns with a functional programming approach, which has led to the development of ClojureScript libraries based on React. Most notably [Om](https://github.com/omcljs/om) and [Reagent](https://github.com/reagent-project/reagent).\n",
    "\n",
    "The reagent-demo project provided in this Notebook's repository also provides a demonstration of how live-reloading streamlines JavaScript development. Start it by:\n",
    "\n",
    "```bash\n",
    "make bash\n",
    "cd projects/reagent-demo\n",
    "# Run the Ring web-app (see files in src/clj/reagent_demo)\n",
    "lein run\n",
    "# Run the live-reloading server (do this in a separate terminal)\n",
    "lein figwheel\n",
    "```\n",
    "\n",
    "Then, open the app at [http://localhost:3000](http://localhost:3000), make a change in `src/cljs/reagent_demo/core.cljs`, and see it take immediate effect (though state atoms defined with `defonce` are not affected)."
   ]
  },
  {
   "cell_type": "markdown",
   "metadata": {
    "slideshow": {
     "slide_type": "subslide"
    }
   },
   "source": [
    "For a really awesome example of live-reloading, see: https://www.youtube.com/watch?v=KZjFVdU8VLI"
   ]
  }
 ],
 "metadata": {
  "kernelspec": {
   "display_name": "Clojure",
   "language": "clojure",
   "name": "clojure"
  },
  "language_info": {
   "file_extension": ".clj",
   "mimetype": "text/x-clojure",
   "name": "clojure",
   "version": "1.8.0"
  },
  "name": "Tutorial.ipynb"
 },
 "nbformat": 4,
 "nbformat_minor": 2
}
